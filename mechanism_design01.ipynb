{
 "metadata": {
  "name": ""
 },
 "nbformat": 3,
 "nbformat_minor": 0,
 "worksheets": [
  {
   "cells": [
    {
     "cell_type": "code",
     "collapsed": false,
     "input": [
      "import numpy as np\n",
      "from numpy.random import *\n",
      "p1,p2,p3,p4 = [],[],[],[]\n",
      "BL,BH,SL,SH = [],[],[],[]\n",
      "a,b = [],[]      #a\uff1dBL\u306e\u78ba\u7387\u3001b\uff1dSH\u306e\u78ba\u7387\n",
      "\n",
      "price = np.array([p1,p2,p3,p4]) #\n",
      "Buyer_reports = ([BL,BH])\n",
      "Seller_reports = ([SL,SH])\n",
      "probability = ([a,b]) #a\uff1dBL\u306e\u78ba\u7387\u3001b\uff1dSH\u306e\u78ba\u7387"
     ],
     "language": "python",
     "metadata": {},
     "outputs": [],
     "prompt_number": 3
    },
    {
     "cell_type": "code",
     "collapsed": false,
     "input": [
      "reports = rand(1,4) # 0\u301c1\u306e\u4e71\u6570\u3067 1x4 \u306e\u884c\u5217\u3092\u751f\u6210\n",
      "reports.sort()    #\u6607\u9806\u306b\u4e26\u3079\u66ff\u3048\n",
      "BL = reports[0][0]\n",
      "BH = reports[0][1]\n",
      "SL = reports[0][2]\n",
      "SH = reports[0][3]"
     ],
     "language": "python",
     "metadata": {},
     "outputs": [],
     "prompt_number": 4
    },
    {
     "cell_type": "code",
     "collapsed": false,
     "input": [
      "b*(BH-p)+(1-b)*(BH-p)+b*p-(1-b)*(BH-p)>=0   #\u2460\u306e\u6761\u4ef6\u5f0f\n",
      "b*-p+(1-p)*(BL-p)>=b*(BL-p)+(1-b)*(BL-p)\n",
      "(1-a)*(p-SH)+a*p>=(1-a)*(p-SH)+a*(p-SH)\n",
      "(1-a)*(p-SL)+a*(p-SL)>=(1-a)*(p-SL)+a*p"
     ],
     "language": "python",
     "metadata": {},
     "outputs": [
      {
       "ename": "NameError",
       "evalue": "name 'p' is not defined",
       "output_type": "pyerr",
       "traceback": [
        "\u001b[0;31m---------------------------------------------------------------------------\u001b[0m\n\u001b[0;31mNameError\u001b[0m                                 Traceback (most recent call last)",
        "\u001b[0;32m<ipython-input-5-0d83fa0de275>\u001b[0m in \u001b[0;36m<module>\u001b[0;34m()\u001b[0m\n\u001b[0;32m----> 1\u001b[0;31m \u001b[0mb\u001b[0m\u001b[0;34m*\u001b[0m\u001b[0;34m(\u001b[0m\u001b[0mBH\u001b[0m\u001b[0;34m-\u001b[0m\u001b[0mp\u001b[0m\u001b[0;34m)\u001b[0m\u001b[0;34m+\u001b[0m\u001b[0;34m(\u001b[0m\u001b[0;36m1\u001b[0m\u001b[0;34m-\u001b[0m\u001b[0mb\u001b[0m\u001b[0;34m)\u001b[0m\u001b[0;34m*\u001b[0m\u001b[0;34m(\u001b[0m\u001b[0mBH\u001b[0m\u001b[0;34m-\u001b[0m\u001b[0mp\u001b[0m\u001b[0;34m)\u001b[0m\u001b[0;34m+\u001b[0m\u001b[0mb\u001b[0m\u001b[0;34m*\u001b[0m\u001b[0mp\u001b[0m\u001b[0;34m-\u001b[0m\u001b[0;34m(\u001b[0m\u001b[0;36m1\u001b[0m\u001b[0;34m-\u001b[0m\u001b[0mb\u001b[0m\u001b[0;34m)\u001b[0m\u001b[0;34m(\u001b[0m\u001b[0mBH\u001b[0m\u001b[0;34m-\u001b[0m\u001b[0mp\u001b[0m\u001b[0;34m)\u001b[0m\u001b[0;34m>=\u001b[0m\u001b[0;36m0\u001b[0m\u001b[0;34m\u001b[0m\u001b[0m\n\u001b[0m",
        "\u001b[0;31mNameError\u001b[0m: name 'p' is not defined"
       ]
      }
     ],
     "prompt_number": 5
    },
    {
     "cell_type": "code",
     "collapsed": false,
     "input": [
      "b*(BH-p)+(1-b)*(BH-p)>=0\n",
      "b*-p+(1-b)*(BL-p)>=0\n",
      "(1-a)*(p-SH)+a*p>=0\n",
      "(1-a)*(p-SL)+a*(p-SL)>=0"
     ],
     "language": "python",
     "metadata": {},
     "outputs": [
      {
       "metadata": {},
       "output_type": "pyout",
       "prompt_number": 6,
       "text": [
        "-12"
       ]
      }
     ],
     "prompt_number": 6
    },
    {
     "cell_type": "code",
     "collapsed": false,
     "input": [
      "import FuncDesigner as fd\n",
      "from openopt import LP\n",
      "import numpy as np\n",
      "from numpy.random import *\n",
      "p1,p2,p3,p4 = [],[],[],[]\n",
      "BL,BH,SL,SH = [],[],[],[]\n",
      "a,b = 0.3,0.7      #a\uff1dBL\u306e\u78ba\u7387\u3001b\uff1dSH\u306e\u78ba\u7387\n",
      "\n",
      "price = np.array([p1,p2,p3,p4]) #\n",
      "Buyer_reports = ([BL,BH])\n",
      "Seller_reports = ([SL,SH])\n",
      "probability = ([a,b]) #a\uff1dBL\u306e\u78ba\u7387\u3001b\uff1dSH\u306e\u78ba\u7387\n",
      "\n",
      "reports = rand(1,4) # 0\u301c1\u306e\u4e71\u6570\u3067 1x4 \u306e\u884c\u5217\u3092\u751f\u6210\n",
      "reports.sort()    #\u6607\u9806\u306b\u4e26\u3079\u66ff\u3048\n",
      "BL = reports[0][0]\n",
      "BH = reports[0][3]\n",
      "SL = reports[0][1]\n",
      "SH = reports[0][2]\n",
      "\n",
      "# \u5909\u6570\u306e\u5b9a\u7fa9\n",
      "p = fd.oovar(1)\n",
      "# \u76ee\u7684\u95a2\u6570\n",
      "f = b*(BH-p)+(1-b)*(BH-p)+b*p-(1-b)*(BH-p)  # >=0\n",
      "# \u521d\u671f\u89e3\n",
      "startPoint = {p:0}\n",
      "# \u5236\u7d04\u6761\u4ef6\n",
      "constraints = [] \n",
      "constraints.append(b*-p+(1-b)*(BL-p)>=b*(BL-p)+(1-b)*(BL-p))\n",
      "constraints.append((1-a)*(p-SH)+a*p>=(1-a)*(p-SH)+a*(p-SH))\n",
      "constraints.append((1-a)*(p-SL)+a*(p-SL)>=(1-a)*(p-SL)+a*p)\n",
      "constraints.append(b*(BH-p)+(1-b)*(BH-p)>=0)\n",
      "constraints.append(b*-p+(1-b)*(BL-p)>=0)\n",
      "constraints.append((1-a)*(p-SH)+a*p>=0)\n",
      "constraints.append((1-a)*(p-SL)+a*(p-SL)>=0)  \n",
      "constraints.append(0>=p-1)  #\u306a\u305c(1>=p)(0<=p)\u3067\u30a8\u30e9\u30fc\u304c\u51fa\u308b\u304b\u306f\u8b0e\n",
      "constraints.append(1<=p+1)\n",
      "\n",
      "# \u5f0f\u306e\u5b9a\u7fa9\n",
      "m = LP(f, startPoint, constraints=constraints, goal='max')\n",
      "# \u89e3\n",
      "r = m.solve('cvxopt_lp')#glpk\u304c\u4f7f\u3048\u305a\n",
      "p_opt = r(p)\n",
      "print(p_opt) "
     ],
     "language": "python",
     "metadata": {},
     "outputs": [
      {
       "output_type": "stream",
       "stream": "stdout",
       "text": [
        "\n",
        "------------------------- OpenOpt 0.5402 -------------------------\n",
        "solver: cvxopt_lp   problem: unnamed    type: LP   goal: max\n",
        "     pcost       dcost       gap    pres   dres   k/t\n",
        " 0:  0.0000e+00 -1.3003e+00  1e+01  3e+00  0e+00  1e+00\n",
        " 1:  0.0000e+00 -1.5766e-01  1e+00  5e-01  3e-16  2e-01\n",
        " 2:  0.0000e+00  4.1427e-01  3e+00  3e-01  4e-14  6e-01\n",
        "Certificate of primal infeasibility found.\n",
        "istop: -100 (primal infeasible)\n",
        "Solver:   Time Elapsed = 0.0 \tCPU Time Elapsed = 0.0\n",
        "NO FEASIBLE SOLUTION has been obtained (MaxResidual = 0, objFunc = nan)\n",
        "nan\n"
       ]
      }
     ],
     "prompt_number": 66
    },
    {
     "cell_type": "code",
     "collapsed": false,
     "input": [
      "p_opt"
     ],
     "language": "python",
     "metadata": {},
     "outputs": [
      {
       "metadata": {},
       "output_type": "pyout",
       "prompt_number": 67,
       "text": [
        "nan"
       ]
      }
     ],
     "prompt_number": 67
    },
    {
     "cell_type": "code",
     "collapsed": false,
     "input": [
      "import FuncDesigner as fd\n",
      "from openopt import LP\n",
      "import numpy as np\n",
      "from numpy.random import *\n",
      "p1,p2,p3,p4 = [],[],[],[]\n",
      "BL,BH,SL,SH = [],[],[],[]\n",
      "a,b = 0.3,0.7      #a\uff1dBL\u306e\u78ba\u7387\u3001b\uff1dSH\u306e\u78ba\u7387\n",
      "\n",
      "price = np.array([p1,p2,p3,p4]) #\n",
      "Buyer_reports = ([BL,BH])\n",
      "Seller_reports = ([SL,SH])\n",
      "probability = ([a,b]) #a\uff1dBL\u306e\u78ba\u7387\u3001b\uff1dSH\u306e\u78ba\u7387\n",
      "\n",
      "reports = rand(1,4) # 0\u301c1\u306e\u4e71\u6570\u3067 1x4 \u306e\u884c\u5217\u3092\u751f\u6210\n",
      "reports.sort()    #\u6607\u9806\u306b\u4e26\u3079\u66ff\u3048\n",
      "BL = reports[0][0]\n",
      "BH = reports[0][1]\n",
      "SL = reports[0][2]\n",
      "SH = reports[0][3]\n",
      "\n"
     ],
     "language": "python",
     "metadata": {},
     "outputs": [],
     "prompt_number": 48
    },
    {
     "cell_type": "code",
     "collapsed": false,
     "input": [
      "import FuncDesigner as fd\n",
      "from openopt import LP\n",
      "import numpy as np\n",
      "from numpy.random import *\n",
      "a,b = 0.3,0.7      #a\uff1dBL\u306e\u78ba\u7387\u3001b\uff1dSH\u306e\u78ba\u7387\n",
      "\n",
      "BL = 0.2\n",
      "BH = 0.6\n",
      "SL = 0.4\n",
      "SH = 0.8\n",
      "\n",
      "# \u5909\u6570\u306e\u5b9a\u7fa9\n",
      "p1,p2,p3,p4= oovar(4) #\u5909\u6570\u304c\u8907\u6570\u306e\u6642\u306fovvars\n",
      "# \u76ee\u7684\u95a2\u6570\n",
      "f = b*(BH-p1)+(1.0-b)*(BH-p2)+b*p4-(1.0-b)*(BH-p3)>=0\n",
      "# \u521d\u671f\u89e3\n",
      "startPoint = {p:0}\n",
      "# \u5236\u7d04\u6761\u4ef6\n",
      "constraints = [] \n",
      "constraints.append(b*-p4+(1-b)*(BL-p2)>=b*(BL-p)+(1-b)*(BL-p)) #p\u306e\u4e8c\u4e57\u306b\u306a\u308a\u7dda\u5f62\u3068\u306a\u3089\u306a\u3044\n",
      "constraints.append((1-a)*(p-SH)+a*p>=(1-a)*(p-SH)+a*(p-SH))\n",
      "constraints.append((1-a)*(p-SL)+a*(p-SL)>=(1-a)*(p-SL)+a*p)\n",
      "constraints.append(b*(BH-p)+(1-b)*(BH-p)>=0)\n",
      "constraints.append(b*-p+(1-b)*(BL-p)>=0)\n",
      "constraints.append((1-a)*(p-SH)+a*p>=0)\n",
      "constraints.append((1-a)*(p-SL)+a*(p-SL)>=0)\n",
      "#constraints.append(1>=p)\n",
      "#constraints.append(0<=p)\n",
      "# \u5f0f\u306e\u5b9a\u7fa9\n",
      "m = LP(f, startPoint, constraints=constraints, goal='max')\n",
      "# \u89e3\n",
      "r = m.solve('cvxopt_lp')#glpk\u304c\u4f7f\u3048\u305a\n",
      "p_opt = r(p)\n",
      "print(f) "
     ],
     "language": "python",
     "metadata": {},
     "outputs": [
      {
       "ename": "ValueError",
       "evalue": "too many values to unpack",
       "output_type": "pyerr",
       "traceback": [
        "\u001b[0;31m---------------------------------------------------------------------------\u001b[0m\n\u001b[0;31mValueError\u001b[0m                                Traceback (most recent call last)",
        "\u001b[0;32m<ipython-input-49-74cf83c54ebb>\u001b[0m in \u001b[0;36m<module>\u001b[0;34m()\u001b[0m\n\u001b[1;32m     11\u001b[0m \u001b[0;34m\u001b[0m\u001b[0m\n\u001b[1;32m     12\u001b[0m \u001b[0;31m# \u5909\u6570\u306e\u5b9a\u7fa9\u001b[0m\u001b[0;34m\u001b[0m\u001b[0;34m\u001b[0m\u001b[0m\n\u001b[0;32m---> 13\u001b[0;31m \u001b[0mp1\u001b[0m\u001b[0;34m,\u001b[0m\u001b[0mp2\u001b[0m\u001b[0;34m,\u001b[0m\u001b[0mp3\u001b[0m\u001b[0;34m,\u001b[0m\u001b[0mp4\u001b[0m\u001b[0;34m=\u001b[0m \u001b[0moovar\u001b[0m\u001b[0;34m(\u001b[0m\u001b[0;36m4\u001b[0m\u001b[0;34m)\u001b[0m \u001b[0;31m#\u5909\u6570\u304c\u8907\u6570\u306e\u6642\u306fovvars\u001b[0m\u001b[0;34m\u001b[0m\u001b[0m\n\u001b[0m\u001b[1;32m     14\u001b[0m \u001b[0;31m# \u76ee\u7684\u95a2\u6570\u001b[0m\u001b[0;34m\u001b[0m\u001b[0;34m\u001b[0m\u001b[0m\n\u001b[1;32m     15\u001b[0m \u001b[0mf\u001b[0m \u001b[0;34m=\u001b[0m \u001b[0mb\u001b[0m\u001b[0;34m*\u001b[0m\u001b[0;34m(\u001b[0m\u001b[0mBH\u001b[0m\u001b[0;34m-\u001b[0m\u001b[0mp1\u001b[0m\u001b[0;34m)\u001b[0m\u001b[0;34m+\u001b[0m\u001b[0;34m(\u001b[0m\u001b[0;36m1.0\u001b[0m\u001b[0;34m-\u001b[0m\u001b[0mb\u001b[0m\u001b[0;34m)\u001b[0m\u001b[0;34m*\u001b[0m\u001b[0;34m(\u001b[0m\u001b[0mBH\u001b[0m\u001b[0;34m-\u001b[0m\u001b[0mp2\u001b[0m\u001b[0;34m)\u001b[0m\u001b[0;34m+\u001b[0m\u001b[0mb\u001b[0m\u001b[0;34m*\u001b[0m\u001b[0mp4\u001b[0m\u001b[0;34m-\u001b[0m\u001b[0;34m(\u001b[0m\u001b[0;36m1.0\u001b[0m\u001b[0;34m-\u001b[0m\u001b[0mb\u001b[0m\u001b[0;34m)\u001b[0m\u001b[0;34m*\u001b[0m\u001b[0;34m(\u001b[0m\u001b[0mBH\u001b[0m\u001b[0;34m-\u001b[0m\u001b[0mp3\u001b[0m\u001b[0;34m)\u001b[0m\u001b[0;34m>=\u001b[0m\u001b[0;36m0\u001b[0m\u001b[0;34m\u001b[0m\u001b[0m\n",
        "\u001b[0;31mValueError\u001b[0m: too many values to unpack"
       ]
      }
     ],
     "prompt_number": 49
    },
    {
     "cell_type": "code",
     "collapsed": false,
     "input": [
      "from FuncDesigner import *\n",
      "from openopt import LP\n",
      " \n",
      "# Define some oovars\n",
      "x, y, z = oovars(3)\n",
      " \n",
      "# Let's define some linear functions\n",
      "f1 = 4*x+5*y + 3*z + 5\n",
      "f2 = f1.sum() + 2*x + 4*y + 15\n",
      "f3 = 5*f1 + 4*f2 + 20\n",
      " \n",
      "# Define objective; sum(a) and a.sum() are same as well as for numpy arrays\n",
      "obj = x.sum() + y - 50*z + sum(f3) + 2*f2.sum() + 4064.6\n",
      " \n",
      "# Define some constraints via Python list or tuple or set of any length, probably via while/for cycles\n",
      "constraints = [x+5*y<15, x[0]<4, f1<[25, 35], f1>-100, 2*f1+4*z<[80, 800], 5*f2+4*z<100, -5<x,  x<1, -20<y,  y<20, -4000<z, z<4]\n",
      " \n",
      "# Start point - currently matters only size of variables, glpk, lpSolve and cvxopt_lp use start val = all-zeros\n",
      "startPoint = {x:[8, 15], y:25, z:80} # however, using numpy.arrays is more recommended than Python lists\n",
      " \n",
      "# Create prob\n",
      "p = LP(obj, startPoint, constraints = constraints)\n",
      " \n",
      "# Solve\n",
      "r = p.solve('cvxopt_lp') # glpk is name of solver involved, see OOF doc for more arguments\n",
      " \n",
      "# Decode solution\n",
      "print('Solution: x = %s   y = %f  z = %f' % (str(x(r)), y(r), z(r)))\n",
      "# Solution: x = [-4.25 -4.25]   y = -20.000000  z = 4.000000"
     ],
     "language": "python",
     "metadata": {},
     "outputs": [
      {
       "output_type": "stream",
       "stream": "stdout",
       "text": [
        "\n",
        "------------------------- OpenOpt 0.5402 -------------------------\n",
        "solver: cvxopt_lp   problem: unnamed    type: LP   goal: minimum\n",
        "     pcost       dcost       gap    pres   dres   k/t\n",
        " 0:  8.6488e+02 -1.6998e+04  3e+04  2e-01  3e+00  1e+00\n",
        " 1: -6.6417e+02 -1.9058e+04  4e+04  2e-01  3e+00  3e+02\n",
        " 2: -2.4803e+04 -9.4634e+04  1e+06  1e+00  1e+01  6e+03\n",
        " 3: -1.5986e+04 -3.3831e+04  2e+05  3e-01  4e+00  6e+03\n",
        " 4: -9.2925e+03 -1.2987e+04  3e+04  7e-02  9e-01  2e+03\n",
        " 5: -4.7547e+03 -6.3267e+03  7e+03  2e-02  3e-01  2e+02\n",
        " 6: -4.9644e+03 -5.0861e+03  5e+02  2e-03  2e-02  2e+01\n",
        " 7: -4.8773e+03 -4.9001e+03  9e+01  3e-04  4e-03  5e+00\n",
        " 8: -4.8606e+03 -4.8617e+03  4e+00  2e-05  2e-04  1e-01\n",
        " 9: -4.8605e+03 -4.8605e+03  6e-02  3e-07  3e-06  3e-03\n",
        "10: -4.8605e+03 -4.8605e+03  6e-04  3e-09  3e-08  3e-05\n",
        "11: -4.8605e+03 -4.8605e+03  6e-06  3e-11  3e-10  3e-07\n",
        "Optimal solution found.\n",
        "istop: -101.0 (optimal)\n",
        "Solver:   Time Elapsed = 0.01 \tCPU Time Elapsed = 0.01\n",
        "NO FEASIBLE SOLUTION has been obtained (MaxResidual = 2.16361e-08, objFunc = -405.9)\n",
        "Solution: x = [-4.25000011 -4.25000011]   y = -20.000000  z = 4.000000\n"
       ]
      }
     ],
     "prompt_number": 62
    },
    {
     "cell_type": "code",
     "collapsed": false,
     "input": [
      "type(x)"
     ],
     "language": "python",
     "metadata": {},
     "outputs": [
      {
       "metadata": {},
       "output_type": "pyout",
       "prompt_number": 64,
       "text": [
        "FuncDesigner.ooVar.oovar"
       ]
      }
     ],
     "prompt_number": 64
    },
    {
     "cell_type": "code",
     "collapsed": false,
     "input": [
      "import FuncDesigner as fd\n",
      "from openopt import LP\n",
      "import numpy as np\n",
      "from numpy.random import *\n",
      "#p1,p2,p3,p4 = [],[],[],[]\n",
      "BL,BH,SL,SH = [],[],[],[]\n",
      "a,b = 0.3,0.7      #a\uff1dBL\u306e\u78ba\u7387\u3001b\uff1dSH\u306e\u78ba\u7387\n",
      "\n",
      "price = np.array([p1,p2,p3,p4]) #\n",
      "Buyer_reports = ([BL,BH])\n",
      "Seller_reports = ([SL,SH])\n",
      "probability = ([a,b]) #a\uff1dBL\u306e\u78ba\u7387\u3001b\uff1dSH\u306e\u78ba\u7387\n",
      "\n",
      "reports = rand(1,4) # 0\u301c1\u306e\u4e71\u6570\u3067 1x4 \u306e\u884c\u5217\u3092\u751f\u6210\n",
      "reports.sort()    #\u6607\u9806\u306b\u4e26\u3079\u66ff\u3048\n",
      "BL = reports[0][0]\n",
      "BH = reports[0][3]\n",
      "SL = reports[0][1]\n",
      "SH = reports[0][2]  #B<S<S<B\u3000p\u306f\u5b58\u5728\u3059\u308b\u306f\u305a\n",
      "\n",
      "# \u5909\u6570\u306e\u5b9a\u7fa9\n",
      "p = fd.oovar(1)\n",
      "# \u76ee\u7684\u95a2\u6570\n",
      "f = b*(BH-p)+(1-b)*(BH-p)+b*p-(1-b)*(BH-p)  # >=0\n",
      "# \u521d\u671f\u89e3\n",
      "startPoint = {p:0}\n",
      "# \u5236\u7d04\u6761\u4ef6\n",
      "constraints = [] \n",
      "constraints.append(b*-p+(1-b)*(BL-p)>=b*(BL-p)+(1-b)*(BL-p))\n",
      "constraints.append((1-a)*(p-SH)+a*p>=(1-a)*(p-SH)+a*(p-SH))\n",
      "constraints.append((1-a)*(p-SL)+a*(p-SL)>=(1-a)*(p-SL)+a*p)\n",
      "constraints.append(b*(BH-p)+(1-b)*(BH-p)>=0)\n",
      "constraints.append(b*-p+(1-b)*(BL-p)>=0)\n",
      "constraints.append((1-a)*(p-SH)+a*p>=0)\n",
      "constraints.append((1-a)*(p-SL)+a*(p-SL)>=0)  \n",
      "constraints.append(0>=p-1)  #\u306a\u305c(1>=p)(0<=p)\u3067\u30a8\u30e9\u30fc\u304c\u51fa\u308b\u304b\u306f\u8b0e\n",
      "constraints.append(1<=p+1)\n",
      "\n",
      "# \u5f0f\u306e\u5b9a\u7fa9\n",
      "m = LP(f, startPoint, constraints=constraints, goal='max')\n",
      "# \u89e3\n",
      "r = m.solve('cvxopt_lp')#glpk\u304c\u4f7f\u3048\u305a\n",
      "p_opt = r(p)\n",
      "print(p_opt) "
     ],
     "language": "python",
     "metadata": {},
     "outputs": [
      {
       "ename": "NameError",
       "evalue": "name 'p1' is not defined",
       "output_type": "pyerr",
       "traceback": [
        "\u001b[0;31m---------------------------------------------------------------------------\u001b[0m\n\u001b[0;31mNameError\u001b[0m                                 Traceback (most recent call last)",
        "\u001b[0;32m<ipython-input-2-dd3cd31b2859>\u001b[0m in \u001b[0;36m<module>\u001b[0;34m()\u001b[0m\n\u001b[1;32m      7\u001b[0m \u001b[0ma\u001b[0m\u001b[0;34m,\u001b[0m\u001b[0mb\u001b[0m \u001b[0;34m=\u001b[0m \u001b[0;36m0.3\u001b[0m\u001b[0;34m,\u001b[0m\u001b[0;36m0.7\u001b[0m      \u001b[0;31m#a\uff1dBL\u306e\u78ba\u7387\u3001b\uff1dSH\u306e\u78ba\u7387\u001b[0m\u001b[0;34m\u001b[0m\u001b[0m\n\u001b[1;32m      8\u001b[0m \u001b[0;34m\u001b[0m\u001b[0m\n\u001b[0;32m----> 9\u001b[0;31m \u001b[0mprice\u001b[0m \u001b[0;34m=\u001b[0m \u001b[0mnp\u001b[0m\u001b[0;34m.\u001b[0m\u001b[0marray\u001b[0m\u001b[0;34m(\u001b[0m\u001b[0;34m[\u001b[0m\u001b[0mp1\u001b[0m\u001b[0;34m,\u001b[0m\u001b[0mp2\u001b[0m\u001b[0;34m,\u001b[0m\u001b[0mp3\u001b[0m\u001b[0;34m,\u001b[0m\u001b[0mp4\u001b[0m\u001b[0;34m]\u001b[0m\u001b[0;34m)\u001b[0m \u001b[0;31m#\u001b[0m\u001b[0;34m\u001b[0m\u001b[0m\n\u001b[0m\u001b[1;32m     10\u001b[0m \u001b[0mBuyer_reports\u001b[0m \u001b[0;34m=\u001b[0m \u001b[0;34m(\u001b[0m\u001b[0;34m[\u001b[0m\u001b[0mBL\u001b[0m\u001b[0;34m,\u001b[0m\u001b[0mBH\u001b[0m\u001b[0;34m]\u001b[0m\u001b[0;34m)\u001b[0m\u001b[0;34m\u001b[0m\u001b[0m\n\u001b[1;32m     11\u001b[0m \u001b[0mSeller_reports\u001b[0m \u001b[0;34m=\u001b[0m \u001b[0;34m(\u001b[0m\u001b[0;34m[\u001b[0m\u001b[0mSL\u001b[0m\u001b[0;34m,\u001b[0m\u001b[0mSH\u001b[0m\u001b[0;34m]\u001b[0m\u001b[0;34m)\u001b[0m\u001b[0;34m\u001b[0m\u001b[0m\n",
        "\u001b[0;31mNameError\u001b[0m: name 'p1' is not defined"
       ]
      }
     ],
     "prompt_number": 2
    },
    {
     "cell_type": "code",
     "collapsed": false,
     "input": [
      "# \u5236\u7d04\u6761\u4ef6 p4=0\n",
      "constraints = [] \n",
      "constraints.append((1-b)*(BL-p)>=b*(BL-p)+(1-b)*(BL-p))\n",
      "constraints.append((1-a)*(p-SH)>=(1-a)*(p-SH)+a*(p-SH))\n",
      "constraints.append((1-a)*(p-SL)+a*(p-SL)>=(1-a)*(p-SL))\n",
      "constraints.append(b*(BH-p)+(1-b)*(BH-p)>=0)\n",
      "constraints.append((1-b)*(BL-p)>=0)\n",
      "constraints.append((1-a)*(p-SH)>=0)\n",
      "constraints.append((1-a)*(p-SL)+a*(p-SL)>=0)"
     ],
     "language": "python",
     "metadata": {},
     "outputs": []
    },
    {
     "cell_type": "code",
     "collapsed": false,
     "input": [
      "import FuncDesigner as fd\n",
      "from openopt import LP\n",
      "import numpy as np\n",
      "from numpy.random import *\n",
      "#p1,p2,p3,p4 = [],[],[],[]\n",
      "BL,BH,SL,SH = [],[],[],[]\n",
      "a,b = 0.3,0.7      #a\uff1dBL\u306e\u78ba\u7387\u3001b\uff1dSH\u306e\u78ba\u7387\n",
      "\n",
      "#price = np.array([p1,p2,p3,p4]) \n",
      "Buyer_reports = ([BL,BH])\n",
      "Seller_reports = ([SL,SH])\n",
      "probability = ([a,b]) #a\uff1dBL\u306e\u78ba\u7387\u3001b\uff1dSH\u306e\u78ba\u7387\n",
      "\n",
      "#reports = rand(1,4) # 0\u301c1\u306e\u4e71\u6570\u3067 1x4 \u306e\u884c\u5217\u3092\u751f\u6210\n",
      "#reports.sort()    #\u6607\u9806\u306b\u4e26\u3079\u66ff\u3048\n",
      "#BL = reports[0][0]\n",
      "#BH = reports[0][3]\n",
      "#SL = reports[0][1]\n",
      "#SH = reports[0][2]  #B<S<S<B\u3000p\u306f\u5b58\u5728\u3059\u308b\u306f\u305a\n",
      "\n",
      "BL = 0.2\n",
      "BH = 0.8\n",
      "SL = 0.4\n",
      "SH = 0.6 \n",
      "\n",
      "# \u5909\u6570\u306e\u5b9a\u7fa9\n",
      "p1,p2,p3,p4 = fd.oovars(4)\n",
      "# \u76ee\u7684\u95a2\u6570\n",
      "f = 0*p1\n",
      "# \u521d\u671f\u89e3\n",
      "startPoint = {p1:0, p2:0, p3:0,p4:0}\n",
      " \n",
      "\n",
      "constraints = [] \n",
      "constraints.append(b*(BH-p1)+(1-b)*(BH-p2)>=b*(-p4)+(1-b)*(BH-p3))\n",
      "#constraints.append(b*(-p4)+(1-b)*(BL-p3)>=b*(BL-p1)+(1-b)*(BL-p2))\n",
      "#constraints.append((1-a)*(p1-SH)+a*p4>=(1-a)*(p2-SH)+a*(p3-SH))\n",
      "#constraints.append((1-a)*(p2-SL)+a*(p3-SL)>=(1-a)*(p1-SL)+a*p4)\n",
      "constraints.append(b*(BH-p1)+(1-b)*(BH-p2)>=0*p3+0*p4)\n",
      "constraints.append(b*(-p4)+(1-b)*(BL-p3)>=0)\n",
      "constraints.append((1-a)*(p1-SH)+a*p4>=0)\n",
      "constraints.append((1-a)*(p2-SL)+a*(p3-SL)>=0) \n",
      "\n",
      "\n",
      "# \u5f0f\u306e\u5b9a\u7fa9\n",
      "m = LP(f, startPoint, constraints=constraints, goal='max')\n",
      "# \u89e3\n",
      "r = m.solve('cvxopt_lp')#glpk\u304c\u4f7f\u3048\u305a\n",
      "p1_opt,p2_opt,p3_opt,p4_opt = r(p1,p2,p3,p4)\n",
      "for var in [p1_opt,p2_opt,p3_opt,p4_opt]:\n",
      "    #print('Solution:  = %,' % (var))\n",
      "    print var\n",
      "#print(p1_opt)"
     ],
     "language": "python",
     "metadata": {},
     "outputs": [
      {
       "ename": "OpenOptException",
       "evalue": "\n        incorrect solver is called, maybe the solver \"ecos\" is misspelled \n        or requires special installation and is not installed, \n        check http://openopt.org/LP",
       "output_type": "pyerr",
       "traceback": [
        "\u001b[0;31m---------------------------------------------------------------------------\u001b[0m\n\u001b[0;31mOpenOptException\u001b[0m                          Traceback (most recent call last)",
        "\u001b[0;32m<ipython-input-31-0037efe60a58>\u001b[0m in \u001b[0;36m<module>\u001b[0;34m()\u001b[0m\n\u001b[1;32m     47\u001b[0m \u001b[0;31m# \u89e3\u001b[0m\u001b[0;34m\u001b[0m\u001b[0;34m\u001b[0m\u001b[0m\n\u001b[1;32m     48\u001b[0m \u001b[0;31m#r = m.solve('cvxopt_lp')#glpk\u304c\u4f7f\u3048\u305a\u001b[0m\u001b[0;34m\u001b[0m\u001b[0;34m\u001b[0m\u001b[0m\n\u001b[0;32m---> 49\u001b[0;31m \u001b[0mr\u001b[0m \u001b[0;34m=\u001b[0m \u001b[0mm\u001b[0m\u001b[0;34m.\u001b[0m\u001b[0msolve\u001b[0m\u001b[0;34m(\u001b[0m\u001b[0;34m'ecos'\u001b[0m\u001b[0;34m)\u001b[0m\u001b[0;34m\u001b[0m\u001b[0m\n\u001b[0m\u001b[1;32m     50\u001b[0m \u001b[0mp1_opt\u001b[0m\u001b[0;34m,\u001b[0m\u001b[0mp2_opt\u001b[0m\u001b[0;34m,\u001b[0m\u001b[0mp3_opt\u001b[0m\u001b[0;34m,\u001b[0m\u001b[0mp4_opt\u001b[0m \u001b[0;34m=\u001b[0m \u001b[0mr\u001b[0m\u001b[0;34m(\u001b[0m\u001b[0mp1\u001b[0m\u001b[0;34m,\u001b[0m\u001b[0mp2\u001b[0m\u001b[0;34m,\u001b[0m\u001b[0mp3\u001b[0m\u001b[0;34m,\u001b[0m\u001b[0mp4\u001b[0m\u001b[0;34m)\u001b[0m\u001b[0;34m\u001b[0m\u001b[0m\n\u001b[1;32m     51\u001b[0m \u001b[0;32mfor\u001b[0m \u001b[0mvar\u001b[0m \u001b[0;32min\u001b[0m \u001b[0;34m[\u001b[0m\u001b[0mp1_opt\u001b[0m\u001b[0;34m,\u001b[0m\u001b[0mp2_opt\u001b[0m\u001b[0;34m,\u001b[0m\u001b[0mp3_opt\u001b[0m\u001b[0;34m,\u001b[0m\u001b[0mp4_opt\u001b[0m\u001b[0;34m]\u001b[0m\u001b[0;34m:\u001b[0m\u001b[0;34m\u001b[0m\u001b[0m\n",
        "\u001b[0;32m//anaconda/lib/python2.7/site-packages/openopt/kernel/baseProblem.pyc\u001b[0m in \u001b[0;36msolve\u001b[0;34m(self, *args, **kwargs)\u001b[0m\n\u001b[1;32m    246\u001b[0m \u001b[0;34m\u001b[0m\u001b[0m\n\u001b[1;32m    247\u001b[0m     \u001b[0;32mdef\u001b[0m \u001b[0msolve\u001b[0m\u001b[0;34m(\u001b[0m\u001b[0mself\u001b[0m\u001b[0;34m,\u001b[0m \u001b[0;34m*\u001b[0m\u001b[0margs\u001b[0m\u001b[0;34m,\u001b[0m \u001b[0;34m**\u001b[0m\u001b[0mkwargs\u001b[0m\u001b[0;34m)\u001b[0m\u001b[0;34m:\u001b[0m\u001b[0;34m\u001b[0m\u001b[0m\n\u001b[0;32m--> 248\u001b[0;31m         \u001b[0;32mreturn\u001b[0m \u001b[0mrunProbSolver\u001b[0m\u001b[0;34m(\u001b[0m\u001b[0mself\u001b[0m\u001b[0;34m,\u001b[0m \u001b[0;34m*\u001b[0m\u001b[0margs\u001b[0m\u001b[0;34m,\u001b[0m \u001b[0;34m**\u001b[0m\u001b[0mkwargs\u001b[0m\u001b[0;34m)\u001b[0m\u001b[0;34m\u001b[0m\u001b[0m\n\u001b[0m\u001b[1;32m    249\u001b[0m \u001b[0;34m\u001b[0m\u001b[0m\n\u001b[1;32m    250\u001b[0m     \u001b[0;32mdef\u001b[0m \u001b[0m_solve\u001b[0m\u001b[0;34m(\u001b[0m\u001b[0mself\u001b[0m\u001b[0;34m,\u001b[0m \u001b[0;34m*\u001b[0m\u001b[0margs\u001b[0m\u001b[0;34m,\u001b[0m \u001b[0;34m**\u001b[0m\u001b[0mkwargs\u001b[0m\u001b[0;34m)\u001b[0m\u001b[0;34m:\u001b[0m\u001b[0;34m\u001b[0m\u001b[0m\n",
        "\u001b[0;32m//anaconda/lib/python2.7/site-packages/openopt/kernel/runProbSolver.pyc\u001b[0m in \u001b[0;36mrunProbSolver\u001b[0;34m(p_, solver_str_or_instance, *args, **kwargs)\u001b[0m\n\u001b[1;32m     69\u001b[0m             \u001b[0mp\u001b[0m\u001b[0;34m.\u001b[0m\u001b[0merr\u001b[0m\u001b[0;34m(\u001b[0m\u001b[0;34m'you should provide name of solver'\u001b[0m\u001b[0;34m)\u001b[0m\u001b[0;34m\u001b[0m\u001b[0m\n\u001b[1;32m     70\u001b[0m         \u001b[0;32melif\u001b[0m \u001b[0mtype\u001b[0m\u001b[0;34m(\u001b[0m\u001b[0msolver_str_or_instance\u001b[0m\u001b[0;34m)\u001b[0m \u001b[0;32mis\u001b[0m \u001b[0mstr\u001b[0m\u001b[0;34m:\u001b[0m\u001b[0;34m\u001b[0m\u001b[0m\n\u001b[0;32m---> 71\u001b[0;31m             \u001b[0mp\u001b[0m\u001b[0;34m.\u001b[0m\u001b[0msolver\u001b[0m \u001b[0;34m=\u001b[0m \u001b[0mgetSolverFromStringName\u001b[0m\u001b[0;34m(\u001b[0m\u001b[0mp\u001b[0m\u001b[0;34m,\u001b[0m \u001b[0msolver_str_or_instance\u001b[0m\u001b[0;34m)\u001b[0m\u001b[0;34m\u001b[0m\u001b[0m\n\u001b[0m\u001b[1;32m     72\u001b[0m         \u001b[0;32melse\u001b[0m\u001b[0;34m:\u001b[0m \u001b[0;31m# solver_str_or_instance is oosolver\u001b[0m\u001b[0;34m\u001b[0m\u001b[0m\n\u001b[1;32m     73\u001b[0m             \u001b[0;32mif\u001b[0m \u001b[0;32mnot\u001b[0m \u001b[0msolver_str_or_instance\u001b[0m\u001b[0;34m.\u001b[0m\u001b[0misInstalled\u001b[0m\u001b[0;34m:\u001b[0m\u001b[0;34m\u001b[0m\u001b[0m\n",
        "\u001b[0;32m//anaconda/lib/python2.7/site-packages/openopt/kernel/nonOptMisc.pyc\u001b[0m in \u001b[0;36mgetSolverFromStringName\u001b[0;34m(p, solver_str)\u001b[0m\n\u001b[1;32m    133\u001b[0m         \u001b[0mincorrect\u001b[0m \u001b[0msolver\u001b[0m \u001b[0;32mis\u001b[0m \u001b[0mcalled\u001b[0m\u001b[0;34m,\u001b[0m \u001b[0mmaybe\u001b[0m \u001b[0mthe\u001b[0m \u001b[0msolver\u001b[0m \u001b[0;34m\"%s\"\u001b[0m \u001b[0;32mis\u001b[0m \u001b[0mmisspelled\u001b[0m\u001b[0;34m\u001b[0m\u001b[0m\n\u001b[1;32m    134\u001b[0m         \u001b[0;32mor\u001b[0m \u001b[0mrequires\u001b[0m \u001b[0mspecial\u001b[0m \u001b[0minstallation\u001b[0m \u001b[0;32mand\u001b[0m \u001b[0;32mis\u001b[0m \u001b[0;32mnot\u001b[0m \u001b[0minstalled\u001b[0m\u001b[0;34m,\u001b[0m\u001b[0;34m\u001b[0m\u001b[0m\n\u001b[0;32m--> 135\u001b[0;31m         check http://openopt.org/%s''' % (solver_str, p.probType))\n\u001b[0m\u001b[1;32m    136\u001b[0m     \u001b[0;32mif\u001b[0m \u001b[0mp\u001b[0m\u001b[0;34m.\u001b[0m\u001b[0mdebug\u001b[0m\u001b[0;34m:\u001b[0m\u001b[0;34m\u001b[0m\u001b[0m\n\u001b[1;32m    137\u001b[0m         \u001b[0msolverClass\u001b[0m \u001b[0;34m=\u001b[0m  \u001b[0msolver_import\u001b[0m\u001b[0;34m(\u001b[0m\u001b[0msolverPaths\u001b[0m\u001b[0;34m[\u001b[0m\u001b[0msolver_str\u001b[0m\u001b[0;34m]\u001b[0m\u001b[0;34m,\u001b[0m \u001b[0msolver_str\u001b[0m\u001b[0;34m)\u001b[0m\u001b[0;34m\u001b[0m\u001b[0m\n",
        "\u001b[0;32m//anaconda/lib/python2.7/site-packages/openopt/kernel/oologfcn.pyc\u001b[0m in \u001b[0;36mooerr\u001b[0;34m(msg)\u001b[0m\n\u001b[1;32m     14\u001b[0m \u001b[0;32mdef\u001b[0m \u001b[0mooerr\u001b[0m\u001b[0;34m(\u001b[0m\u001b[0mmsg\u001b[0m\u001b[0;34m)\u001b[0m\u001b[0;34m:\u001b[0m\u001b[0;34m\u001b[0m\u001b[0m\n\u001b[1;32m     15\u001b[0m     \u001b[0;32mprint\u001b[0m\u001b[0;34m(\u001b[0m\u001b[0;34m'OpenOpt Error: %s'\u001b[0m \u001b[0;34m%\u001b[0m \u001b[0mmsg\u001b[0m\u001b[0;34m)\u001b[0m\u001b[0;34m\u001b[0m\u001b[0m\n\u001b[0;32m---> 16\u001b[0;31m     \u001b[0;32mraise\u001b[0m \u001b[0mOpenOptException\u001b[0m\u001b[0;34m(\u001b[0m\u001b[0mmsg\u001b[0m\u001b[0;34m)\u001b[0m\u001b[0;34m\u001b[0m\u001b[0m\n\u001b[0m\u001b[1;32m     17\u001b[0m \u001b[0;34m\u001b[0m\u001b[0m\n\u001b[1;32m     18\u001b[0m \u001b[0mpwSet\u001b[0m \u001b[0;34m=\u001b[0m \u001b[0mset\u001b[0m\u001b[0;34m(\u001b[0m\u001b[0;34m)\u001b[0m\u001b[0;34m\u001b[0m\u001b[0m\n",
        "\u001b[0;31mOpenOptException\u001b[0m: \n        incorrect solver is called, maybe the solver \"ecos\" is misspelled \n        or requires special installation and is not installed, \n        check http://openopt.org/LP"
       ]
      },
      {
       "output_type": "stream",
       "stream": "stdout",
       "text": [
        "OpenOpt Error: \n",
        "        incorrect solver is called, maybe the solver \"ecos\" is misspelled \n",
        "        or requires special installation and is not installed, \n",
        "        check http://openopt.org/LP\n"
       ]
      },
      {
       "output_type": "stream",
       "stream": "stderr",
       "text": [
        "ERROR: An unexpected error occurred while tokenizing input\n",
        "The following traceback may be corrupted or invalid\n",
        "The error message is: ('EOF in multi-line string', (1, 35))\n",
        "\n"
       ]
      }
     ],
     "prompt_number": 31
    },
    {
     "cell_type": "code",
     "collapsed": false,
     "input": [],
     "language": "python",
     "metadata": {},
     "outputs": []
    }
   ],
   "metadata": {}
  }
 ]
}